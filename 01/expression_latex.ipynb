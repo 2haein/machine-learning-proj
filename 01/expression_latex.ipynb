{
 "cells": [
  {
   "cell_type": "markdown",
   "metadata": {},
   "source": [
    "(1) $f(x) = ax^2 + bx + c$"
   ]
  },
  {
   "cell_type": "markdown",
   "metadata": {},
   "source": [
    "(2) $f(x) = \\exp(x)$"
   ]
  },
  {
   "cell_type": "markdown",
   "metadata": {},
   "source": [
    "(3) $f(x) = \\frac{a}{b},\\quad a \\in \\mathbb{R}, b \\in \\mathbb{R}$"
   ]
  },
  {
   "cell_type": "markdown",
   "metadata": {},
   "source": [
    "(4) $f(x) = \\sum_{i=1}^nx_i, \\quad x = (x_1,x_2,\\cdot\\cdot\\cdot,x_n)$"
   ]
  },
  {
   "cell_type": "markdown",
   "metadata": {},
   "source": [
    "(5) $f(x) = \\int_\\Omega\\sigma(x,t)dt$"
   ]
  },
  {
   "cell_type": "markdown",
   "metadata": {},
   "source": [
    "(6) $\\frac{\\partial \\mathbb{E}}{\\partial w}$"
   ]
  },
  {
   "cell_type": "markdown",
   "metadata": {},
   "source": [
    "(7) $w^{t+ 1} = w^t - \\eta\\nabla\\mathcal{L}(w^t)$"
   ]
  }
 ],
 "metadata": {
  "kernelspec": {
   "display_name": "Python 3.9.12 ('base')",
   "language": "python",
   "name": "python3"
  },
  "language_info": {
   "name": "python",
   "version": "3.9.12"
  },
  "orig_nbformat": 4,
  "vscode": {
   "interpreter": {
    "hash": "67decd70d28483a4d5b8933d21aef2642efe6532181f99c6ee176cdd709b0a05"
   }
  }
 },
 "nbformat": 4,
 "nbformat_minor": 2
}
