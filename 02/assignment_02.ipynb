{
 "cells": [
  {
   "cell_type": "markdown",
   "metadata": {},
   "source": [
    "# Logistic Regression for a Binary Classification of Images"
   ]
  },
  {
   "cell_type": "markdown",
   "metadata": {},
   "source": [
    "## import library"
   ]
  },
  {
   "cell_type": "code",
   "execution_count": 641,
   "metadata": {},
   "outputs": [],
   "source": [
    "import numpy as np\n",
    "import matplotlib.image as img\n",
    "import matplotlib.pyplot as plt\n",
    "import matplotlib.colors as colors\n",
    "from matplotlib import ticker, cm\n",
    "import os"
   ]
  },
  {
   "cell_type": "markdown",
   "metadata": {},
   "source": [
    "## load data"
   ]
  },
  {
   "cell_type": "code",
   "execution_count": 642,
   "metadata": {},
   "outputs": [],
   "source": [
    "directory_data  = './'\n",
    "filename_data   = 'assignment_02_data.npz'\n",
    "path_data       = os.path.join(directory_data, filename_data) \n",
    "data            = np.load(path_data)\n",
    "\n",
    "x = data['x']\n",
    "y = data['y']\n",
    "\n",
    "im_0    = x[0,:,:]\n",
    "im_1    = x[1,:,:]\n",
    "\n",
    "label_0 = y[0]\n",
    "label_1 = y[1]"
   ]
  },
  {
   "cell_type": "code",
   "execution_count": 643,
   "metadata": {},
   "outputs": [
    {
     "name": "stdout",
     "output_type": "stream",
     "text": [
      "size of data : (2, 28, 28)\n",
      "number of images : 2\n",
      "size of image : (28, 28)\n",
      "size of label : (2,)\n",
      "data type of image : float64\n",
      "data type of label : float64\n",
      "number of image : 2\n",
      "height of image : 28\n",
      "width of image : 28\n"
     ]
    }
   ],
   "source": [
    "print('size of data :', x.shape)\n",
    "print('number of images :', x.shape[0])\n",
    "print('size of image :', x[0,:,:].shape)\n",
    "print('size of label :', y.shape)\n",
    "\n",
    "print('data type of image :', x.dtype)\n",
    "print('data type of label :', y.dtype)\n",
    "\n",
    "print('number of image :', x.shape[0])\n",
    "print('height of image :', x.shape[1])\n",
    "print('width of image :', x.shape[2])"
   ]
  },
  {
   "cell_type": "markdown",
   "metadata": {},
   "source": [
    "## plot grey image"
   ]
  },
  {
   "cell_type": "code",
   "execution_count": 644,
   "metadata": {},
   "outputs": [],
   "source": [
    "def plot_image_gray(title1, data1, title2, data2):\n",
    "\n",
    "    size_width  = 8 \n",
    "    size_height = 4 \n",
    "    \n",
    "    fig = plt.figure(figsize=(size_width, size_height))\n",
    "\n",
    "    rows = 1\n",
    "    cols = 2\n",
    "\n",
    "    ax1 = fig.add_subplot(rows, cols, 1)\n",
    "    ax2 = fig.add_subplot(rows, cols, 2)\n",
    "\n",
    "    ax1.set_title(title1)\n",
    "    ax1.imshow(data1, cmap='gray', vmin=0, vmax=1)\n",
    "\n",
    "    ax2.set_title(title2)\n",
    "    ax2.imshow(data2, cmap='gray', vmin=0, vmax=1)\n",
    "\n",
    "    plt.tight_layout()\n",
    "    plt.show()"
   ]
  },
  {
   "cell_type": "code",
   "execution_count": 645,
   "metadata": {},
   "outputs": [
    {
     "data": {
      "image/png": "[encoded data removed]",
      "text/plain": [
       "<Figure size 576x288 with 2 Axes>"
      ]
     },
     "metadata": {
      "needs_background": "light"
     },
     "output_type": "display_data"
    }
   ],
   "source": [
    "plot_image_gray('image 0', im_0, 'image 1', im_1)"
   ]
  },
  {
   "cell_type": "markdown",
   "metadata": {},
   "source": [
    "## create color images from gray ones"
   ]
  },
  {
   "cell_type": "code",
   "execution_count": 646,
   "metadata": {},
   "outputs": [],
   "source": [
    "im_0_red    = np.zeros((im_0.shape[0], im_0.shape[1], 3))\n",
    "im_0_green  = np.zeros((im_0.shape[0], im_0.shape[1], 3))\n",
    "im_0_blue   = np.zeros((im_0.shape[0], im_0.shape[1], 3))\n",
    "\n",
    "im_1_red    = np.zeros((im_1.shape[0], im_1.shape[1], 3))\n",
    "im_1_green  = np.zeros((im_1.shape[0], im_1.shape[1], 3))\n",
    "im_1_blue   = np.zeros((im_1.shape[0], im_1.shape[1], 3))\n",
    "\n",
    "im_0_red[:,:,0]     = im_0\n",
    "im_0_green[:,:,1]   = im_0\n",
    "im_0_blue[:,:,2]    = im_0\n",
    "\n",
    "im_1_red[:,:,0]     = im_1\n",
    "im_1_green[:,:,1]   = im_1\n",
    "im_1_blue[:,:,2]    = im_1"
   ]
  },
  {
   "cell_type": "code",
   "execution_count": 647,
   "metadata": {},
   "outputs": [
    {
     "name": "stdout",
     "output_type": "stream",
     "text": [
      "size of red image for 0 :  (28, 28, 3)\n",
      "size of green image for 0 :  (28, 28, 3)\n",
      "size of blue image for 0 :  (28, 28, 3)\n"
     ]
    }
   ],
   "source": [
    "print('size of red image for 0 : ', im_0_red.shape)\n",
    "print('size of green image for 0 : ', im_0_green.shape)\n",
    "print('size of blue image for 0 : ', im_0_blue.shape)"
   ]
  },
  {
   "cell_type": "markdown",
   "metadata": {},
   "source": [
    "## plot color image"
   ]
  },
  {
   "cell_type": "code",
   "execution_count": 648,
   "metadata": {},
   "outputs": [],
   "source": [
    "def plot_image_color(title1, data1, title2, data2, title3, data3):\n",
    "    \n",
    "    size_width  = 12 \n",
    "    size_height = 4 \n",
    "    \n",
    "    fig = plt.figure(figsize=(size_width, size_height))\n",
    "\n",
    "    rows = 1\n",
    "    cols = 3\n",
    "\n",
    "    ax1 = fig.add_subplot(rows, cols, 1)\n",
    "    ax2 = fig.add_subplot(rows, cols, 2)\n",
    "    ax3 = fig.add_subplot(rows, cols, 3)\n",
    "        \n",
    "    ax1.set_title(title1)\n",
    "    ax1.imshow(data1, vmin=0, vmax=1)\n",
    "\n",
    "    ax2.set_title(title2)\n",
    "    ax2.imshow(data2, vmin=0, vmax=1)\n",
    "    \n",
    "    ax3.set_title(title3)\n",
    "    ax3.imshow(data3, vmin=0, vmax=1)\n",
    "    \n",
    "    plt.tight_layout()\n",
    "    plt.show()"
   ]
  },
  {
   "cell_type": "code",
   "execution_count": 649,
   "metadata": {},
   "outputs": [
    {
     "data": {
      "image/png": "[encoded data removed]",
      "text/plain": [
       "<Figure size 864x288 with 3 Axes>"
      ]
     },
     "metadata": {
      "needs_background": "light"
     },
     "output_type": "display_data"
    },
    {
     "data": {
      "image/png": "[encoded data removed]",
      "text/plain": [
       "<Figure size 864x288 with 3 Axes>"
      ]
     },
     "metadata": {
      "needs_background": "light"
     },
     "output_type": "display_data"
    }
   ],
   "source": [
    "plot_image_color('image 0 : red', im_0_red, 'image 0 : green', im_0_green, 'image 0 : blue', im_0_blue)\n",
    "plot_image_color('image 1 : red', im_1_red, 'image 1 : green', im_1_green, 'image 1 : blue', im_1_blue)"
   ]
  },
  {
   "cell_type": "markdown",
   "metadata": {},
   "source": [
    "## initialize input data"
   ]
  },
  {
   "cell_type": "markdown",
   "metadata": {},
   "source": [
    "- vectorize input image matrices into vectors (row-major order)"
   ]
  },
  {
   "cell_type": "code",
   "execution_count": 650,
   "metadata": {},
   "outputs": [],
   "source": [
    "# ================================================== \n",
    "# fill up the blank\n",
    "#\n",
    "vec_0   = np.matrix.flatten(im_0)\n",
    "vec_1   = np.matrix.flatten(im_1)\n",
    "#\n",
    "# ================================================== "
   ]
  },
  {
   "cell_type": "code",
   "execution_count": 651,
   "metadata": {},
   "outputs": [
    {
     "name": "stdout",
     "output_type": "stream",
     "text": [
      "size of vec 0 :  (784,)\n",
      "size of vec 1 :  (784,)\n"
     ]
    }
   ],
   "source": [
    "print('size of vec 0 : ', vec_0.shape)\n",
    "print('size of vec 1 : ', vec_1.shape)"
   ]
  },
  {
   "cell_type": "markdown",
   "metadata": {},
   "source": [
    "## initialize a linear layer for the neural network"
   ]
  },
  {
   "cell_type": "markdown",
   "metadata": {},
   "source": [
    "- initialize the weights in a fully connected layer (zero matrix)\n",
    "- dimension\n",
    "  - input : length of input data\n",
    "  - output : 1"
   ]
  },
  {
   "cell_type": "code",
   "execution_count": 652,
   "metadata": {},
   "outputs": [],
   "source": [
    "size_input  = len(vec_0)\n",
    "size_output = 1\n",
    "# ================================================== \n",
    "# fill up the blank\n",
    "#\n",
    "weight = np.zeros((size_output,size_input))\n",
    "#\n",
    "# ================================================== "
   ]
  },
  {
   "cell_type": "code",
   "execution_count": 653,
   "metadata": {},
   "outputs": [
    {
     "name": "stdout",
     "output_type": "stream",
     "text": [
      "size of weight :  (1, 784)\n"
     ]
    }
   ],
   "source": [
    "print('size of weight : ', weight.shape)"
   ]
  },
  {
   "cell_type": "markdown",
   "metadata": {},
   "source": [
    "## define a linear layer "
   ]
  },
  {
   "cell_type": "markdown",
   "metadata": {},
   "source": [
    "- input\n",
    "  - input data\n",
    "  - dimension : $m \\times 1$\n",
    "- weight\n",
    "  - weight associated with the layer of the neural network\n",
    "  - dimension : $p \\times m$\n",
    "- return\n",
    "  - output of the layer\n",
    "  - dimension : $p \\times 1$"
   ]
  },
  {
   "cell_type": "code",
   "execution_count": 654,
   "metadata": {},
   "outputs": [],
   "source": [
    "def layer_linear(input, weight):\n",
    "\n",
    "# ================================================== \n",
    "# fill up the blank\n",
    "#\n",
    "    output = weight @ input\n",
    "#\n",
    "# ================================================== \n",
    "\n",
    "    return output"
   ]
  },
  {
   "cell_type": "markdown",
   "metadata": {},
   "source": [
    "## define sigmoid function "
   ]
  },
  {
   "cell_type": "code",
   "execution_count": 655,
   "metadata": {},
   "outputs": [],
   "source": [
    "def activation_sigmoid(input):\n",
    "\n",
    "# ================================================== \n",
    "# fill up the blank\n",
    "#\n",
    "    tmp = -1*input\n",
    "    exponential_z = np.exp(tmp)\n",
    "    output = 1/(1+exponential_z)\n",
    "#\n",
    "# ================================================== \n",
    "\n",
    "    return output "
   ]
  },
  {
   "cell_type": "markdown",
   "metadata": {},
   "source": [
    "## define forward propagation"
   ]
  },
  {
   "cell_type": "code",
   "execution_count": 656,
   "metadata": {},
   "outputs": [],
   "source": [
    "def propagation_forward(input, weight):\n",
    "\n",
    "# ================================================== \n",
    "# fill up the blank\n",
    "#\n",
    "    output      = layer_linear(input, weight)\n",
    "    prediction  = activation_sigmoid(output)\n",
    "#\n",
    "# ================================================== \n",
    "    return prediction "
   ]
  },
  {
   "cell_type": "markdown",
   "metadata": {},
   "source": [
    "## define the loss function"
   ]
  },
  {
   "cell_type": "markdown",
   "metadata": {},
   "source": [
    "- cross entropy between the ground truth and the prediction\n",
    "- cross entropy : $-y \\log(h) - (1-y) \\log(1-h)$\n",
    "  - $y$ : grount truth\n",
    "  - $h$ : prediction\n",
    "- output dimension : $1 \\times 1$"
   ]
  },
  {
   "cell_type": "code",
   "execution_count": 657,
   "metadata": {},
   "outputs": [],
   "source": [
    "def compute_loss(prediction, label):\n",
    "\n",
    "# ================================================== \n",
    "# fill up the blank\n",
    "#\n",
    "    log_prediction = np.log(prediction)\n",
    "    _log_prediction = np.log(1-prediction)\n",
    "    temp = -(label*log_prediction + (1-label)*_log_prediction)\n",
    "    loss = np.average(temp)\n",
    "#\n",
    "# ================================================== \n",
    "\n",
    "    return loss\n"
   ]
  },
  {
   "cell_type": "markdown",
   "metadata": {},
   "source": [
    "## compute the gradient of the loss with respect to the model parameter"
   ]
  },
  {
   "cell_type": "code",
   "execution_count": 658,
   "metadata": {},
   "outputs": [],
   "source": [
    "def compute_gradient(input, prediction, label):\n",
    "\n",
    "# ================================================== \n",
    "# fill up the blank\n",
    "#\n",
    "    residual    = prediction - label\n",
    "    \n",
    "    arr=list()\n",
    "    for i in range(len(input)):\n",
    "        arr.append(residual*input[i])\n",
    "    gradient    = np.average(arr)\n",
    "#\n",
    "# ================================================== \n",
    "\n",
    "    return gradient"
   ]
  },
  {
   "cell_type": "markdown",
   "metadata": {},
   "source": [
    "## gradient descent algorithm"
   ]
  },
  {
   "cell_type": "markdown",
   "metadata": {},
   "source": [
    "- hyper-parameters"
   ]
  },
  {
   "cell_type": "code",
   "execution_count": 659,
   "metadata": {
    "tags": []
   },
   "outputs": [],
   "source": [
    "number_iteration    = 500\n",
    "learning_rate       = 0.01"
   ]
  },
  {
   "cell_type": "code",
   "execution_count": 660,
   "metadata": {},
   "outputs": [],
   "source": [
    "loss_iter   = np.zeros(number_iteration)\n",
    "loss_iter_0 = np.zeros(number_iteration)\n",
    "loss_iter_1 = np.zeros(number_iteration)\n",
    "\n",
    "pred_iter_0 = np.zeros(number_iteration)\n",
    "pred_iter_1 = np.zeros(number_iteration)"
   ]
  },
  {
   "cell_type": "markdown",
   "metadata": {},
   "source": [
    "## run the gradient descent algorithm"
   ]
  },
  {
   "cell_type": "code",
   "execution_count": 661,
   "metadata": {},
   "outputs": [],
   "source": [
    "for i in range(number_iteration):\n",
    "\n",
    "# ================================================== \n",
    "# fill up the blank\n",
    "#\n",
    "    pred_0  = propagation_forward(vec_0, weight)\n",
    "    loss_0  = compute_loss(pred_0, label_0)\n",
    "    grad_0  = compute_gradient(vec_0, pred_0, label_0)\n",
    "\n",
    "    pred_1  = propagation_forward(vec_1, weight)\n",
    "    loss_1  = compute_loss(pred_1, label_1)\n",
    "    grad_1  = compute_gradient(vec_1, pred_1, label_1)\n",
    "\n",
    "    loss    = (loss_0+loss_1)/2\n",
    "    grad    = (grad_0+grad_1)/2\n",
    "    weight  = weight - learning_rate*grad\n",
    "#\n",
    "# ================================================== \n",
    "\n",
    "    loss_iter_0[i]  = loss_0 \n",
    "    loss_iter_1[i]  = loss_1\n",
    "    loss_iter[i]    = loss\n",
    "\n",
    "    pred_iter_0[i]  = pred_0\n",
    "    pred_iter_1[i]  = pred_1"
   ]
  },
  {
   "cell_type": "markdown",
   "metadata": {},
   "source": [
    "---"
   ]
  },
  {
   "cell_type": "markdown",
   "metadata": {},
   "source": [
    "## functions for presenting the results"
   ]
  },
  {
   "cell_type": "markdown",
   "metadata": {},
   "source": [
    "---"
   ]
  },
  {
   "cell_type": "code",
   "execution_count": 662,
   "metadata": {},
   "outputs": [],
   "source": [
    "def function_result_01():\n",
    "\n",
    "    title           = 'loss for image 0'\n",
    "    label_axis_x    = 'iteration' \n",
    "    label_axis_y    = 'loss'\n",
    "\n",
    "    plt.figure(figsize=(8, 6))\n",
    "    plt.title(title)\n",
    "\n",
    "# ================================================== \n",
    "# fill up the blank\n",
    "#\n",
    "    plt.plot(loss_iter_0, '-', color='red')\n",
    "    plt.xlabel(label_axis_x)\n",
    "    plt.ylabel(label_axis_y)\n",
    "#\n",
    "# ================================================== \n",
    "\n",
    "    plt.tight_layout()\n",
    "    plt.show()"
   ]
  },
  {
   "cell_type": "code",
   "execution_count": 663,
   "metadata": {},
   "outputs": [],
   "source": [
    "def function_result_02():\n",
    "\n",
    "    title           = 'loss for image 1'\n",
    "    label_axis_x    = 'iteration' \n",
    "    label_axis_y    = 'loss'\n",
    "     \n",
    "    plt.figure(figsize=(8, 6))\n",
    "    plt.title(title)\n",
    "\n",
    "# ================================================== \n",
    "# fill up the blank\n",
    "#\n",
    "    plt.plot(loss_iter_1, '-', color='blue')\n",
    "    plt.xlabel(label_axis_x)\n",
    "    plt.ylabel(label_axis_y)\n",
    "\n",
    "\n",
    "\n",
    "#\n",
    "# ================================================== \n",
    "\n",
    "    plt.tight_layout()\n",
    "    plt.show()"
   ]
  },
  {
   "cell_type": "code",
   "execution_count": 664,
   "metadata": {},
   "outputs": [],
   "source": [
    "def function_result_03():\n",
    "\n",
    "    title           = 'totla loss'\n",
    "    label_axis_x    = 'iteration' \n",
    "    label_axis_y    = 'loss'\n",
    "\n",
    "    plt.figure(figsize=(8, 6))\n",
    "    plt.title(title)\n",
    "\n",
    "# ================================================== \n",
    "# fill up the blank\n",
    "#\n",
    "    plt.plot(loss_iter_0, '-', color='red', label='image 0')\n",
    "    plt.plot(loss_iter_1, '-', color='blue', label='image 1')\n",
    "    plt.plot(loss_iter, '-', color='green', label='total')\n",
    "    plt.legend()\n",
    "    plt.xlabel(label_axis_x)\n",
    "    plt.ylabel(label_axis_y)\n",
    "\n",
    "\n",
    "\n",
    "#\n",
    "# ================================================== \n",
    "\n",
    "    plt.tight_layout()\n",
    "    plt.show()"
   ]
  },
  {
   "cell_type": "code",
   "execution_count": 665,
   "metadata": {},
   "outputs": [],
   "source": [
    "def function_result_04():\n",
    "\n",
    "    title           = 'prediction for image 0'\n",
    "    label_axis_x    = 'iteration' \n",
    "    label_axis_y    = 'prediction'\n",
    "\n",
    "    plt.figure(figsize=(8, 6))\n",
    "    plt.title(title)\n",
    "\n",
    "# ================================================== \n",
    "# fill up the blank\n",
    "#\n",
    "\n",
    "\n",
    "\n",
    "\n",
    "#\n",
    "# ================================================== \n",
    "    \n",
    "    plt.tight_layout()\n",
    "    plt.show()"
   ]
  },
  {
   "cell_type": "code",
   "execution_count": 666,
   "metadata": {},
   "outputs": [],
   "source": [
    "def function_result_05():\n",
    "\n",
    "    title           = 'prediction for image 1'\n",
    "    label_axis_x    = 'iteration' \n",
    "    label_axis_y    = 'prediction'\n",
    "\n",
    "    plt.figure(figsize=(8, 6))\n",
    "    plt.title(title)\n",
    "\n",
    "# ================================================== \n",
    "# fill up the blank\n",
    "#\n",
    "\n",
    "\n",
    "\n",
    "\n",
    "#\n",
    "# ================================================== \n",
    "\n",
    "    plt.tight_layout()\n",
    "    plt.show()"
   ]
  },
  {
   "cell_type": "code",
   "execution_count": 667,
   "metadata": {},
   "outputs": [],
   "source": [
    "def function_result_06():\n",
    "\n",
    "    title           = 'prediction'\n",
    "    label_axis_x    = 'iteration' \n",
    "    label_axis_y    = 'prediction'\n",
    "\n",
    "    plt.figure(figsize=(8, 6))\n",
    "    plt.title(title)\n",
    "\n",
    "# ================================================== \n",
    "# fill up the blank\n",
    "#\n",
    "\n",
    "\n",
    "\n",
    "\n",
    "#\n",
    "# ================================================== \n",
    "\n",
    "    plt.tight_layout()\n",
    "    plt.show()"
   ]
  },
  {
   "cell_type": "code",
   "execution_count": 668,
   "metadata": {},
   "outputs": [],
   "source": [
    "def function_result_07():\n",
    "\n",
    "    print('prediction = %12.10f' % (pred_iter_0[0]))"
   ]
  },
  {
   "cell_type": "code",
   "execution_count": 669,
   "metadata": {},
   "outputs": [],
   "source": [
    "def function_result_08():\n",
    "\n",
    "    print('prediction = %12.10f' % (pred_iter_1[0]))"
   ]
  },
  {
   "cell_type": "code",
   "execution_count": 670,
   "metadata": {},
   "outputs": [],
   "source": [
    "def function_result_09():\n",
    "\n",
    "    print('prediction = %12.10f' % (pred_iter_0[-1]))"
   ]
  },
  {
   "cell_type": "code",
   "execution_count": 671,
   "metadata": {},
   "outputs": [],
   "source": [
    "def function_result_10():\n",
    "\n",
    "    print('prediction = %12.10f' % (pred_iter_1[-1]))"
   ]
  },
  {
   "cell_type": "code",
   "execution_count": 672,
   "metadata": {},
   "outputs": [],
   "source": [
    "def function_result_11():\n",
    "\n",
    "    print('loss = %12.10f' % (loss_iter_0[-1]))"
   ]
  },
  {
   "cell_type": "code",
   "execution_count": 673,
   "metadata": {},
   "outputs": [],
   "source": [
    "def function_result_12():\n",
    "\n",
    "    print('loss = %12.10f' % (loss_iter_1[-1]))"
   ]
  },
  {
   "cell_type": "code",
   "execution_count": 674,
   "metadata": {},
   "outputs": [],
   "source": [
    "def function_result_13():\n",
    "\n",
    "    print('loss = %12.10f' % (loss_iter[-1]))"
   ]
  },
  {
   "cell_type": "markdown",
   "metadata": {},
   "source": [
    "---"
   ]
  },
  {
   "cell_type": "markdown",
   "metadata": {},
   "source": [
    "## results "
   ]
  },
  {
   "cell_type": "markdown",
   "metadata": {},
   "source": [
    "---"
   ]
  },
  {
   "cell_type": "code",
   "execution_count": 675,
   "metadata": {},
   "outputs": [
    {
     "name": "stdout",
     "output_type": "stream",
     "text": [
      "\n",
      "################################################################################\n",
      "#\n",
      "# RESULT # 01\n",
      "#\n",
      "################################################################################\n",
      "\n"
     ]
    },
    {
     "data": {
      "image/png": "[encoded data removed]",
      "text/plain": [
       "<Figure size 576x432 with 1 Axes>"
      ]
     },
     "metadata": {
      "needs_background": "light"
     },
     "output_type": "display_data"
    },
    {
     "name": "stdout",
     "output_type": "stream",
     "text": [
      "\n",
      "################################################################################\n",
      "#\n",
      "# RESULT # 02\n",
      "#\n",
      "################################################################################\n",
      "\n"
     ]
    },
    {
     "data": {
      "image/png": "[encoded data removed]",
      "text/plain": [
       "<Figure size 576x432 with 1 Axes>"
      ]
     },
     "metadata": {
      "needs_background": "light"
     },
     "output_type": "display_data"
    },
    {
     "name": "stdout",
     "output_type": "stream",
     "text": [
      "\n",
      "################################################################################\n",
      "#\n",
      "# RESULT # 03\n",
      "#\n",
      "################################################################################\n",
      "\n"
     ]
    },
    {
     "data": {
      "image/png": "[encoded data removed]",
      "text/plain": [
       "<Figure size 576x432 with 1 Axes>"
      ]
     },
     "metadata": {
      "needs_background": "light"
     },
     "output_type": "display_data"
    },
    {
     "name": "stdout",
     "output_type": "stream",
     "text": [
      "\n",
      "################################################################################\n",
      "#\n",
      "# RESULT # 04\n",
      "#\n",
      "################################################################################\n",
      "\n"
     ]
    },
    {
     "data": {
      "image/png": "[encoded data removed]",
      "text/plain": [
       "<Figure size 576x432 with 1 Axes>"
      ]
     },
     "metadata": {
      "needs_background": "light"
     },
     "output_type": "display_data"
    },
    {
     "name": "stdout",
     "output_type": "stream",
     "text": [
      "\n",
      "################################################################################\n",
      "#\n",
      "# RESULT # 05\n",
      "#\n",
      "################################################################################\n",
      "\n"
     ]
    },
    {
     "data": {
      "image/png": "[encoded data removed]",
      "text/plain": [
       "<Figure size 576x432 with 1 Axes>"
      ]
     },
     "metadata": {
      "needs_background": "light"
     },
     "output_type": "display_data"
    },
    {
     "name": "stdout",
     "output_type": "stream",
     "text": [
      "\n",
      "################################################################################\n",
      "#\n",
      "# RESULT # 06\n",
      "#\n",
      "################################################################################\n",
      "\n"
     ]
    },
    {
     "data": {
      "image/png": "[encoded data removed]",
      "text/plain": [
       "<Figure size 576x432 with 1 Axes>"
      ]
     },
     "metadata": {
      "needs_background": "light"
     },
     "output_type": "display_data"
    },
    {
     "name": "stdout",
     "output_type": "stream",
     "text": [
      "\n",
      "################################################################################\n",
      "#\n",
      "# RESULT # 07\n",
      "#\n",
      "################################################################################\n",
      "\n",
      "prediction = 0.5000000000\n",
      "\n",
      "################################################################################\n",
      "#\n",
      "# RESULT # 08\n",
      "#\n",
      "################################################################################\n",
      "\n",
      "prediction = 0.5000000000\n",
      "\n",
      "################################################################################\n",
      "#\n",
      "# RESULT # 09\n",
      "#\n",
      "################################################################################\n",
      "\n",
      "prediction = 0.3289603885\n",
      "\n",
      "################################################################################\n",
      "#\n",
      "# RESULT # 10\n",
      "#\n",
      "################################################################################\n",
      "\n",
      "prediction = 0.4030336266\n",
      "\n",
      "################################################################################\n",
      "#\n",
      "# RESULT # 11\n",
      "#\n",
      "################################################################################\n",
      "\n",
      "loss = 0.3989271102\n",
      "\n",
      "################################################################################\n",
      "#\n",
      "# RESULT # 12\n",
      "#\n",
      "################################################################################\n",
      "\n",
      "loss = 0.9087352798\n",
      "\n",
      "################################################################################\n",
      "#\n",
      "# RESULT # 13\n",
      "#\n",
      "################################################################################\n",
      "\n",
      "loss = 0.6538311950\n"
     ]
    }
   ],
   "source": [
    "number_result = 13\n",
    "\n",
    "for i in range(number_result):\n",
    "\n",
    "    title           = '# RESULT # {:02d}'.format(i+1) \n",
    "    name_function   = 'function_result_{:02d}()'.format(i+1)\n",
    "\n",
    "    print('') \n",
    "    print('################################################################################')\n",
    "    print('#') \n",
    "    print(title)\n",
    "    print('#') \n",
    "    print('################################################################################')\n",
    "    print('') \n",
    "\n",
    "    eval(name_function)"
   ]
  },
  {
   "cell_type": "code",
   "execution_count": null,
   "metadata": {},
   "outputs": [],
   "source": []
  }
 ],
 "metadata": {
  "kernelspec": {
   "display_name": "Python 3.9.12 ('base')",
   "language": "python",
   "name": "python3"
  },
  "language_info": {
   "codemirror_mode": {
    "name": "ipython",
    "version": 3
   },
   "file_extension": ".py",
   "mimetype": "text/x-python",
   "name": "python",
   "nbconvert_exporter": "python",
   "pygments_lexer": "ipython3",
   "version": "3.9.12"
  },
  "metadata": {
   "interpreter": {
    "hash": "31f2aee4e71d21fbe5cf8b01ff0e069b9275f58929596ceb00d14d90e3e16cd6"
   }
  },
  "vscode": {
   "interpreter": {
    "hash": "67decd70d28483a4d5b8933d21aef2642efe6532181f99c6ee176cdd709b0a05"
   }
  }
 },
 "nbformat": 4,
 "nbformat_minor": 2
}
